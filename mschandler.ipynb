{
 "cells": [
  {
   "cell_type": "code",
   "execution_count": null,
   "metadata": {},
   "outputs": [],
   "source": [
    "# import json\n",
    "# with open(\"./bigdata/msc/session_3/train.jsonl\") as f:\n",
    "#     for json_line in f:\n",
    "#         json_file = json.loads(json_line)\n",
    "#         prev_strs = \"\"\n",
    "#         dic_list=json_file[\"extracted_persona_list\"]\n",
    "#         for i,dic in enumerate(dic_list):\n",
    "#             if i!=0 and i!=len(dic_list)-1:\n",
    "#                 prev_strs += dic[\"utterance\"] + \" \" \n",
    "#                 train_lists.append(prev_strs + \" \" + dic[\"3persona\"][0][0]) #[0][1]이 점수\n",
    "#             if i!=0 and i!=1:\n",
    "#                 label_lists.append(dic[\"utterance\"])\n"
   ]
  },
  {
   "cell_type": "code",
   "execution_count": 15,
   "metadata": {},
   "outputs": [],
   "source": [
    "import json\n",
    "with open(\"./bigdata/msc/session_3/train.jsonl\",\"r\") as infile, open(\"./bigdata/msc/session_3/train_preprocessed.jsonl\",\"w\") as outfile:\n",
    "    for dialog_idx,json_line in enumerate(infile):\n",
    "        dic = {\"num\":dialog_idx,\"session1\":[],\"session2\":[],\"session3\":[]}\n",
    "        json_file = json.loads(json_line)\n",
    "        if(json_file['dialog'][0][\"id\"] ==  \"Speaker 2\"):\n",
    "            print(\"there is an error\")\n",
    "        for session_idx,session in enumerate(json_file[\"previous_dialogs\"]):\n",
    "            for utterance_idx,utterance_dic in enumerate(session['dialog']):\n",
    "                if(utterance_idx%2==0):\n",
    "                    dic[f\"session{session_idx+1}\"].append(\"Speaker 1: \"+utterance_dic['text'])\n",
    "                else:\n",
    "                    dic[f\"session{session_idx+1}\"].append(\"Speaker 2: \"+utterance_dic['text'])\n",
    "                \n",
    "        for utterance_idx,utterance_dic in enumerate(json_file['dialog']):\n",
    "            if(utterance_idx%2==0):\n",
    "                dic[\"session3\"].append(\"Speaker 1: \"+utterance_dic['text'])\n",
    "            else:\n",
    "                dic[\"session3\"].append(\"Speaker 2: \"+utterance_dic['text'])\n",
    "        \n",
    "            \n",
    "        json.dump(dic,outfile)\n",
    "        outfile.write('\\n')\n",
    "\n"
   ]
  },
  {
   "cell_type": "code",
   "execution_count": null,
   "metadata": {},
   "outputs": [],
   "source": [
    "#dict_keys(['personas', 'dialog', 'metadata', 'previous_dialogs', 'init_personas'])\n",
    "#dict_keys(['personas', 'dialog', 'time_num', 'time_unit', 'time_back'])"
   ]
  },
  {
   "cell_type": "code",
   "execution_count": 20,
   "metadata": {},
   "outputs": [
    {
     "name": "stdout",
     "output_type": "stream",
     "text": [
      "['Speaker 1: I need some advice on where to go on vacation, have you been anywhere lately?', \"Speaker 2: I have been all over the world. I'm military.\", 'Speaker 1: That is good you have alot of travel experience', 'Speaker 2: Sure do. And a lot of experience blowing things up! Haha. Bora bora is nice.', \"Speaker 1: I've been working non stop crazy hours and need a break.\", 'Speaker 2: The best breaks are spent with cute cuddly kittens.', 'Speaker 1: Bora bora sounds nice, you have been there before?', 'Speaker 2: Nope... Just sounds nice, and repetitive. Bora... Bora. Ha!', 'Speaker 1: Kittens really? I rather be at the beach.', 'Speaker 2: Only if the beach was covered in kittens!', 'Speaker 1: That would be a sight to see.', 'Speaker 2: Or maybe brownies... I love chocolate.', \"Speaker 1: I love brownies too but I haven't quite perfected mine yet.\", \"Speaker 2: Well I'm available to taste test!\"]\n"
     ]
    }
   ],
   "source": [
    "with open(\"./bigdata/msc/session_3/train_preprocessed.jsonl\",\"r\") as infile:\n",
    "    for dialog_idx,json_line in enumerate(infile):\n",
    "        json_file = json.loads(json_line)\n",
    "        print(json_file['session1'])\n",
    "        break"
   ]
  },
  {
   "cell_type": "code",
   "execution_count": null,
   "metadata": {},
   "outputs": [],
   "source": [
    "## here starts to make persona contained dataset"
   ]
  },
  {
   "cell_type": "code",
   "execution_count": 3,
   "metadata": {},
   "outputs": [],
   "source": [
    "import json\n",
    "import copy\n",
    "with open(\"./bigdata/msc/session_3/train.jsonl\",\"r\") as infile, open(\"./bigdata/msc/contains_persona_jsonl/session_3_train.jsonl\",\"w\") as outfile:\n",
    "    for dialog_idx,json_line in enumerate(infile):\n",
    "        dic = {\"num\":dialog_idx,\"session1\":[],\"session2\":[],\"session3\":[],\"session1_persona\":None,\"session2_persona\":None,\"session3_persona\":None}\n",
    "        json_file = json.loads(json_line)\n",
    "        if(json_file['dialog'][0][\"id\"] ==  \"Speaker 2\"):\n",
    "            print(\"there is an error\")\n",
    "        for session_idx,session in enumerate(json_file[\"previous_dialogs\"]):\n",
    "            dic[f\"session{session_idx+1}_persona\"] = [[],[]]\n",
    "            \n",
    "            for persona in session['personas'][0]:\n",
    "                dic[f\"session{session_idx+1}_persona\"][0].append(\"Speaker 1: \"+persona)\n",
    "            \n",
    "            for persona in session['personas'][1]:\n",
    "                dic[f\"session{session_idx+1}_persona\"][1].append(\"Speaker 2: \"+persona)\n",
    "            \n",
    "            for utterance_idx,utterance_dic in enumerate(session['dialog']):\n",
    "                if(utterance_idx%2==0):\n",
    "                    dic[f\"session{session_idx+1}\"].append(\"Speaker 1: \"+utterance_dic['text'])\n",
    "                else:\n",
    "                    dic[f\"session{session_idx+1}\"].append(\"Speaker 2: \"+utterance_dic['text'])\n",
    "                \n",
    "        for utterance_idx,utterance_dic in enumerate(json_file['dialog']):\n",
    "            if(utterance_idx%2==0):\n",
    "                dic[\"session3\"].append(\"Speaker 1: \"+utterance_dic['text'])\n",
    "            else:\n",
    "                dic[\"session3\"].append(\"Speaker 2: \"+utterance_dic['text'])\n",
    "        \n",
    "        dic[\"session3_persona\"] = [[],[]]\n",
    "        \n",
    "        for persona in json_file[\"personas\"][0]:\n",
    "            dic[f\"session3_persona\"][0].append(\"Speaker 1: \"+persona)\n",
    "            \n",
    "        for persona in json_file[\"personas\"][1]:\n",
    "            dic[f\"session3_persona\"][1].append(\"Speaker 2: \"+persona)\n",
    "        \n",
    "        \n",
    "        \n",
    "        json.dump(dic,outfile)\n",
    "        outfile.write('\\n')\n",
    "\n"
   ]
  },
  {
   "cell_type": "code",
   "execution_count": 4,
   "metadata": {},
   "outputs": [],
   "source": [
    "import json\n",
    "import copy\n",
    "with open(\"./bigdata/msc/session_3/valid.jsonl\",\"r\") as infile, open(\"./bigdata/msc/contains_persona_jsonl/session_3_valid.jsonl\",\"w\") as outfile:\n",
    "    for dialog_idx,json_line in enumerate(infile):\n",
    "        dic = {\"num\":dialog_idx,\"session1\":[],\"session2\":[],\"session3\":[],\"session1_persona\":None,\"session2_persona\":None,\"session3_persona\":None}\n",
    "        json_file = json.loads(json_line)\n",
    "        if(json_file['dialog'][0][\"id\"] ==  \"Speaker 2\"):\n",
    "            print(\"there is an error\")\n",
    "        for session_idx,session in enumerate(json_file[\"previous_dialogs\"]):\n",
    "            dic[f\"session{session_idx+1}_persona\"] = [[],[]]\n",
    "            \n",
    "            for persona in session['personas'][0]:\n",
    "                dic[f\"session{session_idx+1}_persona\"][0].append(\"Speaker 1: \"+persona)\n",
    "            \n",
    "            for persona in session['personas'][1]:\n",
    "                dic[f\"session{session_idx+1}_persona\"][1].append(\"Speaker 2: \"+persona)\n",
    "            \n",
    "            for utterance_idx,utterance_dic in enumerate(session['dialog']):\n",
    "                if(utterance_idx%2==0):\n",
    "                    dic[f\"session{session_idx+1}\"].append(\"Speaker 1: \"+utterance_dic['text'])\n",
    "                else:\n",
    "                    dic[f\"session{session_idx+1}\"].append(\"Speaker 2: \"+utterance_dic['text'])\n",
    "                \n",
    "        for utterance_idx,utterance_dic in enumerate(json_file['dialog']):\n",
    "            if(utterance_idx%2==0):\n",
    "                dic[\"session3\"].append(\"Speaker 1: \"+utterance_dic['text'])\n",
    "            else:\n",
    "                dic[\"session3\"].append(\"Speaker 2: \"+utterance_dic['text'])\n",
    "        \n",
    "        dic[\"session3_persona\"] = [[],[]]\n",
    "        \n",
    "        for persona in json_file[\"personas\"][0]:\n",
    "            dic[f\"session3_persona\"][0].append(\"Speaker 1: \"+persona)\n",
    "            \n",
    "        for persona in json_file[\"personas\"][1]:\n",
    "            dic[f\"session3_persona\"][1].append(\"Speaker 2: \"+persona)\n",
    "        \n",
    "        \n",
    "        \n",
    "        json.dump(dic,outfile)\n",
    "        outfile.write('\\n')\n",
    "\n"
   ]
  },
  {
   "cell_type": "code",
   "execution_count": null,
   "metadata": {},
   "outputs": [],
   "source": []
  }
 ],
 "metadata": {
  "kernelspec": {
   "display_name": "huggvenv",
   "language": "python",
   "name": "huggvenv"
  },
  "language_info": {
   "codemirror_mode": {
    "name": "ipython",
    "version": 3
   },
   "file_extension": ".py",
   "mimetype": "text/x-python",
   "name": "python",
   "nbconvert_exporter": "python",
   "pygments_lexer": "ipython3",
   "version": "3.7.6"
  }
 },
 "nbformat": 4,
 "nbformat_minor": 4
}
