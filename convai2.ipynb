{
 "cells": [
  {
   "cell_type": "code",
   "execution_count": 37,
   "metadata": {},
   "outputs": [
    {
     "name": "stderr",
     "output_type": "stream",
     "text": [
      "Found cached dataset conv_ai_2 (/root/.cache/huggingface/datasets/conv_ai_2/conv_ai_2/1.0.0/11d600ddce66bb9d07ca50d1b55b488145ef0d5d0206168c32f1043677875865)\n",
      "100%|██████████| 1/1 [00:00<00:00, 229.52it/s]\n"
     ]
    },
    {
     "name": "stdout",
     "output_type": "stream",
     "text": [
      "Total dialogs processed: 1131\n",
      "Dialogs with repeated senders: 1428\n"
     ]
    }
   ],
   "source": [
    "import json\n",
    "from datasets import load_dataset\n",
    "\n",
    "# 데이터셋 로드\n",
    "dataset = load_dataset(\"conv_ai_2\")\n",
    "\n",
    "cnt = 0\n",
    "ocnt = -1\n",
    "overlap_flag = False\n",
    "repeated_sender_count = 0  # 연속적으로 같은 발신자가 나타나는 경우의 수\n",
    "\n",
    "# 'data.jsonl' 파일에 JSONL 형식으로 저장\n",
    "with open('./downloaded_LM/data.jsonl', 'w') as file:\n",
    "    for data in dataset['train']:\n",
    "        overlap_flag = False\n",
    "        formatted_dialog = [f\"{item['sender_class']} : {item['text']}\" for item in data['dialog']]\n",
    "\n",
    "        # 연속적으로 같은 발신자가 나타나는지 검사\n",
    "        previous_sender = None\n",
    "        for item in data['dialog']:\n",
    "            current_sender = item['sender_class']\n",
    "            if previous_sender and current_sender == previous_sender:\n",
    "                repeated_sender_count += 1\n",
    "                \n",
    "                overlap_flag = True\n",
    "                break  # 연속되는 발신자가 발견되면 더 이상 확인하지 않고 반복문 종료\n",
    "            previous_sender = current_sender\n",
    "\n",
    "        ocnt += 1\n",
    "        if(len(formatted_dialog) < 5 or overlap_flag):\n",
    "            continue\n",
    "\n",
    "        # 프로필 부분 변환\n",
    "        formatted_bot_profile = [''.join(profile) for profile in data['bot_profile']]\n",
    "        formatted_user_profile = [''.join(profile) for profile in data['user_profile']]\n",
    "\n",
    "        # 최종 딕셔너리 생성\n",
    "        formatted_data = {\n",
    "            \"org_num\" : ocnt,\n",
    "            \"dialog\": formatted_dialog,\n",
    "            \"Human Profile\": formatted_user_profile,\n",
    "            \"Bot Profile\": formatted_bot_profile\n",
    "        }\n",
    "        json_line = json.dumps(formatted_data)\n",
    "        # 파일에 쓰기\n",
    "        file.write(json_line + '\\n')\n",
    "        cnt += 1\n",
    "\n",
    "print(f\"Total dialogs processed: {cnt}\")\n",
    "print(f\"Dialogs with repeated senders: {repeated_sender_count}\")\n"
   ]
  },
  {
   "cell_type": "code",
   "execution_count": 38,
   "metadata": {},
   "outputs": [
    {
     "name": "stdout",
     "output_type": "stream",
     "text": [
      "{'org_num': 0, 'dialog': ['Bot : I love iphone! i just bought new iphone!', \"Human : Thats good for you, i'm not very into new tech\", 'Bot : I am a college student and i am a college student', 'Human : I am go to gym and live on donations', 'Bot : I am a vegan and i am in the midwest', 'Human : So vegan... i have dogs maybe i should told then that they may eat cheap salads insted of meat', 'Bot : I would not mind having them in the office that would be hard for me', 'Human : Dogs or vegan in office?', 'Bot : I am a vegetarian so i am vegan', 'Human : Strange answer', 'Bot : I guess i just do not know what to ps4 experience with.'], 'Human Profile': ['two dogs live with me.', 'i like doing the treadmill and rowing machine.', \"eating is something i do when i'm bored.\", 'i have short hair.', 'i go to the gym regularly.'], 'Bot Profile': ['i have amazing children and grandchildren.', 'i can sew my own clothes.', 'i had cancer but its gone now.', 'i am retired and living the great life.', 'i do not have a smartphone.']}\n"
     ]
    }
   ],
   "source": [
    "# 'data.jsonl' 파일 읽기\n",
    "with open('./downloaded_LM/data.jsonl', 'r') as file:\n",
    "    for line in file:\n",
    "        json_obj = json.loads(line)\n",
    "        # 여기서 json_obj를 사용하여 필요한 작업 수행\n",
    "        print(json_obj)  # 예시 출력\n",
    "        break"
   ]
  },
  {
   "cell_type": "code",
   "execution_count": null,
   "metadata": {},
   "outputs": [],
   "source": [
    "dataset[\"train\"][19]"
   ]
  },
  {
   "cell_type": "code",
   "execution_count": null,
   "metadata": {},
   "outputs": [],
   "source": []
  },
  {
   "cell_type": "code",
   "execution_count": null,
   "metadata": {},
   "outputs": [],
   "source": []
  }
 ],
 "metadata": {
  "kernelspec": {
   "display_name": "huggvenv",
   "language": "python",
   "name": "huggvenv"
  },
  "language_info": {
   "codemirror_mode": {
    "name": "ipython",
    "version": 3
   },
   "file_extension": ".py",
   "mimetype": "text/x-python",
   "name": "python",
   "nbconvert_exporter": "python",
   "pygments_lexer": "ipython3",
   "version": "3.7.6"
  }
 },
 "nbformat": 4,
 "nbformat_minor": 4
}
